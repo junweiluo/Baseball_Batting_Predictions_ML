{
 "cells": [
  {
   "cell_type": "markdown",
   "metadata": {},
   "source": [
    "# Quick Scrape\n",
    "\n",
    "## Make you sure install clipboard\n",
    "\n",
    "### Setup\n",
    "`pip install clipboard`\n",
    "1. Set the path correctly in the bottom two cells.\n",
    "2. Run all cells except the last one.\n",
    "\n",
    "### Running\n",
    "\n",
    "1. Go to player page.\n",
    "2. Copy name into function parameters.\n",
    "3. Copy the stats. (As in, make sure they are in your clipboard)\n",
    "4. Run the function"
   ]
  },
  {
   "cell_type": "code",
   "execution_count": 2,
   "metadata": {},
   "outputs": [],
   "source": [
    "import clipboard"
   ]
  },
  {
   "cell_type": "code",
   "execution_count": 3,
   "metadata": {},
   "outputs": [],
   "source": [
    "def getStatsFromPlayer(path, playerName):\n",
    "    stats = clipboard.paste();\n",
    "    stats = [x for x in stats.split(\"\\n\") if x != '']\n",
    "    individual_stats = [y for (x,y) in enumerate(stats) if x % 2 == 1]\n",
    "    individual_stats[0] = playerName;\n",
    "    \n",
    "    \n",
    "    #Make sure this path is correct!\n",
    "    with open(path, \"a\") as f:\n",
    "        output = ','.join(individual_stats) + \"\\n\"\n",
    "        print(\"Wrote:\" + output)\n",
    "        f.write(output);"
   ]
  },
  {
   "cell_type": "markdown",
   "metadata": {},
   "source": [
    "# Run this only once, sets the column names.\n",
    "\n",
    "### Make sure the path is set correctly."
   ]
  },
  {
   "cell_type": "code",
   "execution_count": 4,
   "metadata": {},
   "outputs": [
    {
     "name": "stdout",
     "output_type": "stream",
     "text": [
      "Wrote:NAME,WAR,AB,H,HR,BA,R,RBI,SB,OBP,SLG,OPS,OPS+\n",
      "\n"
     ]
    }
   ],
   "source": [
    "statsList =['NAME',\n",
    " 'WAR',\n",
    " 'AB',\n",
    " 'H',\n",
    " 'HR',\n",
    " 'BA',\n",
    " 'R',\n",
    " 'RBI',\n",
    " 'SB',\n",
    " 'OBP',\n",
    " 'SLG',\n",
    " 'OPS',\n",
    " 'OPS+'];\n",
    "\n",
    "# Make sure this path is correct!\n",
    "with open(\"topstats.txt\", \"a\") as f:\n",
    "    output = ','.join(statsList) + \"\\n\"\n",
    "    print(\"Wrote:\" + output)\n",
    "    f.write(output);"
   ]
  },
  {
   "cell_type": "code",
   "execution_count": 56,
   "metadata": {},
   "outputs": [
    {
     "name": "stdout",
     "output_type": "stream",
     "text": [
      "Wrote:Roberto_Alomar,9073,2724,210,.300,1508,1134,474,.371,.443,.814,116\n",
      "\n"
     ]
    }
   ],
   "source": [
    "getStatsFromPlayer(\"topstats.txt\",\"Roberto_Alomar\")"
   ]
  },
  {
   "cell_type": "code",
   "execution_count": null,
   "metadata": {},
   "outputs": [],
   "source": []
  },
  {
   "cell_type": "code",
   "execution_count": null,
   "metadata": {},
   "outputs": [],
   "source": []
  }
 ],
 "metadata": {
  "kernelspec": {
   "display_name": "Python 3",
   "language": "python",
   "name": "python3"
  },
  "language_info": {
   "codemirror_mode": {
    "name": "ipython",
    "version": 3
   },
   "file_extension": ".py",
   "mimetype": "text/x-python",
   "name": "python",
   "nbconvert_exporter": "python",
   "pygments_lexer": "ipython3",
   "version": "3.7.4"
  }
 },
 "nbformat": 4,
 "nbformat_minor": 4
}
